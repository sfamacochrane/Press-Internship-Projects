{
 "cells": [
  {
   "cell_type": "markdown",
   "metadata": {},
   "source": [
    "**Princeton University Press:**\n",
    "Use list of book titles to search the PUP website, select the first book in the results page, click through, select the hardcover version or paperback if no hardcover, and copy the distinct URL into a list. The url's can then be used to scrape the site of any given book. "
   ]
  },
  {
   "cell_type": "markdown",
   "metadata": {},
   "source": [
    "1. Test on individual titles:"
   ]
  },
  {
   "cell_type": "code",
   "execution_count": 468,
   "metadata": {},
   "outputs": [],
   "source": [
    "from selenium import webdriver\n",
    "from selenium.webdriver.common.keys import Keys\n",
    "\n",
    "driver = webdriver.Chrome()\n",
    "driver.get('https://press.princeton.edu/books')\n",
    "\n",
    "inputElems = driver.find_element_by_name(\"search\")"
   ]
  },
  {
   "cell_type": "code",
   "execution_count": 469,
   "metadata": {},
   "outputs": [],
   "source": [
    "inputElems.clear()\n",
    "inputElems.send_keys('Charles Ives and His World')\n"
   ]
  },
  {
   "cell_type": "code",
   "execution_count": 470,
   "metadata": {},
   "outputs": [],
   "source": [
    "inputElems.send_keys(Keys.RETURN)"
   ]
  },
  {
   "cell_type": "code",
   "execution_count": 473,
   "metadata": {},
   "outputs": [],
   "source": [
    "link = driver.find_element_by_partial_link_text('Charles Ives and His World')\n"
   ]
  },
  {
   "cell_type": "code",
   "execution_count": 474,
   "metadata": {},
   "outputs": [],
   "source": [
    "driver.execute_script(\"arguments[0].click();\", link)\n",
    "\n"
   ]
  },
  {
   "cell_type": "code",
   "execution_count": 475,
   "metadata": {},
   "outputs": [
    {
     "name": "stdout",
     "output_type": "stream",
     "text": [
      "https://press.princeton.edu/books/paperback/9780691011639/charles-ives-and-his-world\n"
     ]
    }
   ],
   "source": [
    "print(driver.current_url)"
   ]
  },
  {
   "cell_type": "code",
   "execution_count": 147,
   "metadata": {},
   "outputs": [],
   "source": [
    "button=driver.find_element_by_partial_link_text(\"ebook\")\n",
    "#Paperback\n",
    "#Hardcover\n",
    "#ebook"
   ]
  },
  {
   "cell_type": "code",
   "execution_count": 148,
   "metadata": {},
   "outputs": [],
   "source": [
    "driver.execute_script(\"arguments[0].click();\", button)"
   ]
  },
  {
   "cell_type": "code",
   "execution_count": 171,
   "metadata": {},
   "outputs": [
    {
     "name": "stdout",
     "output_type": "stream",
     "text": [
      "https://press.princeton.edu/books/paperback/9780691213828/theory-and-credibility\n"
     ]
    }
   ],
   "source": [
    "print(driver.current_url)"
   ]
  },
  {
   "cell_type": "code",
   "execution_count": 364,
   "metadata": {},
   "outputs": [],
   "source": [
    "driver.quit()"
   ]
  },
  {
   "cell_type": "code",
   "execution_count": null,
   "metadata": {},
   "outputs": [],
   "source": []
  },
  {
   "cell_type": "code",
   "execution_count": null,
   "metadata": {},
   "outputs": [],
   "source": []
  },
  {
   "cell_type": "markdown",
   "metadata": {},
   "source": [
    "**List of Books**"
   ]
  },
  {
   "cell_type": "markdown",
   "metadata": {},
   "source": [
    "2. Loop through list of books to get URL's for many titles:"
   ]
  },
  {
   "cell_type": "code",
   "execution_count": 274,
   "metadata": {},
   "outputs": [],
   "source": [
    "from selenium import webdriver\n",
    "from selenium.webdriver.common.keys import Keys\n",
    "import time\n",
    "import pandas"
   ]
  },
  {
   "cell_type": "code",
   "execution_count": 497,
   "metadata": {},
   "outputs": [
    {
     "name": "stdout",
     "output_type": "stream",
     "text": [
      "['Why Not Default?', 'Why People Obey the Law', 'Why Toast Lands Jelly-Side Down', 'Wildlife of New Zealand', 'William James on Consciousness beyond the Margin', 'With the Stroke of a Pen', \"Women Don't Ask\", 'Working-Class Americanism', 'Worlds of Women', 'Writing on the Wall', 'Yellow Stars and Ice', 'Yeshiva Days', 'Yoga in Modern India']\n"
     ]
    }
   ],
   "source": [
    "# change .csv file for each list of books. \n",
    "# (Made list of 1011 titles into 10 smaller sub lists)\n",
    "\n",
    "df = pandas.read_csv('ss10.csv')\n",
    "booklist = list(df['x'])\n",
    "\n",
    "#booklist = \n",
    "print(booklist)"
   ]
  },
  {
   "cell_type": "code",
   "execution_count": 498,
   "metadata": {},
   "outputs": [
    {
     "name": "stdout",
     "output_type": "stream",
     "text": [
      "['https://press.princeton.edu/books/hardcover/9780691180106/why-not-default', 'https://press.princeton.edu/books/paperback/9780691126739/why-people-obey-the-law', 'https://press.princeton.edu/books/paperback/9780691028873/why-toast-lands-jelly-side-down', 'https://press.princeton.edu/books/paperback/9780691212470/wildlife-of-new-zealand', 'https://press.princeton.edu/books/paperback/9780691151144/william-james-on-consciousness-beyond-the-margin', 'https://press.princeton.edu/books/paperback/9780691094991/with-the-stroke-of-a-pen', 'https://press.princeton.edu/books/paperback/9780691210537/women-dont-ask', 'https://press.princeton.edu/books/paperback/9780691089119/working-class-americanism', 'https://press.princeton.edu/books/paperback/9780691016757/worlds-of-women', 'https://press.princeton.edu/books/hardcover/9780691161334/writing-on-the-wall', 'https://press.princeton.edu/books/paperback/9780691013794/yellow-stars-and-ice', 'https://press.princeton.edu/books/hardcover/9780691203980/yeshiva-days', 'https://press.princeton.edu/books/paperback/9780691118741/yoga-in-modern-india']\n"
     ]
    }
   ],
   "source": [
    "# loop through book titles in the book list to search the PUP site, \n",
    "# add each book's bookpage url to the url list \n",
    "\n",
    "urllist = []\n",
    "driver = webdriver.Chrome()\n",
    "\n",
    "for book in booklist:\n",
    "    try:\n",
    "        driver.get('https://press.princeton.edu/books')\n",
    "        time.sleep(2)\n",
    "    # close popup ad:\n",
    "        #button = driver.find_element_by_id(\"popup-dismiss\")\n",
    "        #driver.execute_script(\"arguments[0].click();\", button)\n",
    "        #time.sleep(4)\n",
    "    # find search bar and input title:\n",
    "        inputElems = driver.find_element_by_name(\"search\")\n",
    "        inputElems.clear()\n",
    "        inputElems.send_keys(book)\n",
    "        inputElems.send_keys(Keys.RETURN)\n",
    "        time.sleep(4)\n",
    "    # Click link of correct book from search page:\n",
    "    # link = driver.find_element_by_css_selector('div.o-filtered-list > ul > li:nth-child(1) > a')\n",
    "        link = driver.find_element_by_link_text(book)\n",
    "        driver.execute_script(\"arguments[0].click();\", link)\n",
    "        time.sleep(4)\n",
    "    # Try for Hardcover, then Paperback, then default page:\n",
    "        try:\n",
    "            button2=driver.find_element_by_partial_link_text(\"Hardcover\")\n",
    "            driver.execute_script(\"arguments[0].click();\", button2)\n",
    "            time.sleep(2)\n",
    "            urllist.append(driver.current_url)\n",
    "        except: \n",
    "            try: \n",
    "                button3=driver.find_element_by_partial_link_text(\"Paperback\")\n",
    "                driver.execute_script(\"arguments[0].click();\", button3)\n",
    "                time.sleep(2)\n",
    "                urllist.append(driver.current_url)\n",
    "            except:\n",
    "                urllist.append(driver.current_url)\n",
    "    except: \n",
    "        urllist.append(\"NA\")\n",
    "print(urllist)           \n",
    " \n",
    "driver.quit()               "
   ]
  },
  {
   "cell_type": "code",
   "execution_count": 499,
   "metadata": {},
   "outputs": [],
   "source": [
    "# Save each sub-list of url's: \n",
    "\n",
    "textfile = open(\"ss10_urls.txt\", \"w\")\n",
    "for element in urllist:\n",
    "    textfile.write(element + \",\")\n",
    "textfile.close()"
   ]
  },
  {
   "cell_type": "markdown",
   "metadata": {},
   "source": [
    "**Make one big long list of all URL's from saved .txt files**:"
   ]
  },
  {
   "cell_type": "code",
   "execution_count": 590,
   "metadata": {},
   "outputs": [],
   "source": [
    "# make long url list of all ss1-9_urls.txt: \n",
    "\n",
    "url_sub_lists = [\"ss1_urls.txt\", \"ss2_urls.txt\", \"ss3_urls.txt\", \n",
    "                \"ss3B_urls.txt\", \"ss4_urls.txt\", \"ss5_urls.txt\", \n",
    "                \"ss6_urls.txt\", \"ss7_urls.txt\", \"ss8_urls.txt\",\n",
    "                \"ss9_urls.txt\", \"ss10_urls.txt\"]\n",
    "\n",
    "file_open1 = open(\"ss1_urls.txt\", \"r\")\n",
    "lines1 = file_open1.read()\n",
    "content_list1 = lines1.split(\",\")\n",
    "content_list1 = content_list1[0:110]"
   ]
  },
  {
   "cell_type": "code",
   "execution_count": 591,
   "metadata": {},
   "outputs": [],
   "source": [
    "file_open2 = open(\"ss2_urls.txt\", \"r\")\n",
    "lines2 = file_open2.read()\n",
    "content_list2 = lines2.split(\",\")\n",
    "content_list2 = content_list2[0:111]"
   ]
  },
  {
   "cell_type": "code",
   "execution_count": 592,
   "metadata": {},
   "outputs": [],
   "source": [
    "file_open3 = open(\"ss3_urls.txt\", \"r\")\n",
    "lines3 = file_open3.read()\n",
    "content_list3 = lines3.split(\",\")\n",
    "content_list3 = content_list3[0:31]"
   ]
  },
  {
   "cell_type": "code",
   "execution_count": 593,
   "metadata": {},
   "outputs": [],
   "source": [
    "file_open3B = open(\"ss3B_urls.txt\", \"r\")\n",
    "lines3B = file_open3B.read()\n",
    "content_list3B = lines3B.split(\",\")\n",
    "content_list3B = content_list3B[0:80]"
   ]
  },
  {
   "cell_type": "code",
   "execution_count": 594,
   "metadata": {},
   "outputs": [],
   "source": [
    "file_open4 = open(\"ss4_urls.txt\", \"r\")\n",
    "lines4 = file_open4.read()\n",
    "content_list4 = lines4.split(\",\")\n",
    "content_list4 = content_list4[0:111]"
   ]
  },
  {
   "cell_type": "code",
   "execution_count": 595,
   "metadata": {},
   "outputs": [],
   "source": [
    "file_open5 = open(\"ss5_urls.txt\", \"r\")\n",
    "lines5 = file_open5.read()\n",
    "content_list5 = lines5.split(\",\")\n",
    "content_list5 = content_list5[0:111]"
   ]
  },
  {
   "cell_type": "code",
   "execution_count": 596,
   "metadata": {},
   "outputs": [],
   "source": [
    "file_open6 = open(\"ss6_urls.txt\", \"r\")\n",
    "lines6 = file_open6.read()\n",
    "content_list6 = lines6.split(\",\")\n",
    "content_list6 = content_list6[0:111]"
   ]
  },
  {
   "cell_type": "code",
   "execution_count": 597,
   "metadata": {},
   "outputs": [],
   "source": [
    "file_open7 = open(\"ss7_urls.txt\", \"r\")\n",
    "lines7 = file_open7.read()\n",
    "content_list7 = lines7.split(\",\")\n",
    "content_list7 = content_list7[0:111]"
   ]
  },
  {
   "cell_type": "code",
   "execution_count": 598,
   "metadata": {},
   "outputs": [],
   "source": [
    "file_open8 = open(\"ss8_urls.txt\", \"r\")\n",
    "lines8 = file_open8.read()\n",
    "content_list8 = lines8.split(\",\")\n",
    "content_list8 = content_list8[0:111]"
   ]
  },
  {
   "cell_type": "code",
   "execution_count": 599,
   "metadata": {},
   "outputs": [],
   "source": [
    "file_open9 = open(\"ss9_urls.txt\", \"r\")\n",
    "lines9 = file_open9.read()\n",
    "content_list9 = lines9.split(\",\")\n",
    "content_list9 = content_list9[0:111]"
   ]
  },
  {
   "cell_type": "code",
   "execution_count": 600,
   "metadata": {},
   "outputs": [],
   "source": [
    "file_open10 = open(\"ss10_urls.txt\", \"r\")\n",
    "lines10 = file_open10.read()\n",
    "content_list10 = lines10.split(\",\")\n",
    "content_list10 = content_list10[0:13]"
   ]
  },
  {
   "cell_type": "code",
   "execution_count": 602,
   "metadata": {},
   "outputs": [],
   "source": [
    "# combine all into full url list, save as text file:\n",
    "\n",
    "full_url_list = content_list1 + content_list2 + content_list3 + content_list3B + content_list4 + content_list5 + content_list6 + content_list7 + content_list8 + content_list9 + content_list10\n",
    "\n",
    "url_text_file = open(\"full_url_list.txt\", \"w\")\n",
    "for element in full_url_list:\n",
    "    url_text_file.write(element + \",\")\n",
    "url_text_file.close()"
   ]
  },
  {
   "cell_type": "markdown",
   "metadata": {},
   "source": [
    "**Use list of urls to scrape PUP for publication date:**"
   ]
  },
  {
   "cell_type": "markdown",
   "metadata": {},
   "source": [
    "1. Test on a single URL:"
   ]
  },
  {
   "cell_type": "code",
   "execution_count": null,
   "metadata": {},
   "outputs": [],
   "source": [
    "from scrapy import Selector\n",
    "import requests\n",
    "\n",
    "url = \"https://press.princeton.edu/books/paperback/9780691206493/ballad-of-the-bullet\"\n",
    "html = requests.get(url).content\n",
    "\n",
    "sel = Selector(text = html)"
   ]
  },
  {
   "cell_type": "code",
   "execution_count": null,
   "metadata": {},
   "outputs": [],
   "source": [
    "\n",
    "sel.xpath('//dt[contains(@class, \"published\")]/following-sibling::dd[1]/text()').extract()[0]"
   ]
  },
  {
   "cell_type": "markdown",
   "metadata": {},
   "source": [
    "2. Loop through full URL list (\"full_url_list\") to scrape publication date: "
   ]
  },
  {
   "cell_type": "code",
   "execution_count": 614,
   "metadata": {},
   "outputs": [],
   "source": [
    "# Read in full url list (full list from above, but with manually entered missing values)\n",
    "\n",
    "full_url_file = open(\"full_url_filled_in_list.txt\", \"r\")\n",
    "full_lines = full_url_file.read()\n",
    "full_url_content = full_lines.split(\"\\n\")[0:1007]\n"
   ]
  },
  {
   "cell_type": "code",
   "execution_count": 615,
   "metadata": {},
   "outputs": [
    {
     "name": "stdout",
     "output_type": "stream",
     "text": [
      "['Aug 25, 2020', 'Jun 1, 2021', 'Jul 21, 2020', 'Jan 12, 2021', 'Oct 6, 2020', 'Mar 16, 2021', 'Mar 23, 2021', 'Jan 26, 2021', 'Aug 11, 2020', 'Jun 22, 2021', 'Apr 13, 2021', 'May 12, 2020', 'Nov 10, 2020', 'Mar 3, 2020', 'Apr 27, 2021', 'Mar 23, 2021', 'Jan 19, 2021', 'Sep 8, 2020', 'Apr 6, 2021', 'Jul 14, 2020', 'Nov 3, 2020', 'Oct 6, 2020', 'Oct 20, 2020', 'Jun 22, 2021', 'Aug 4, 2020', 'Mar 2, 2021', 'Mar 23, 2021', 'Jun 25, 2019', 'Sep 29, 2020', 'Jun 22, 2021', 'Jul 13, 2021', 'Aug 18, 2020', 'Apr 2, 2019', 'Mar 2, 2021', 'Oct 20, 2020', 'Dec 8, 2020', 'Mar 9, 2021', 'May 11, 2021', 'Apr 6, 2021', 'May 11, 2021', 'Oct 13, 2020', 'Feb 9, 2021', 'Nov 24, 2020', 'Sep 15, 2020', 'May 4, 2021', 'Sep 29, 2020', 'Oct 27, 2020', 'Aug 25, 2020', 'Oct 20, 2020', 'Oct 20, 2020', 'Apr 13, 2021', 'Mar 30, 2021', 'Dec 1, 2020', 'Mar 16, 2021', 'May 4, 2021', 'Dec 1, 2020', 'Jun 1, 2021', 'Sep 15, 2020', 'Mar 24, 2020', 'Feb 9, 2021', 'May 18, 2021', 'Feb 12, 2019', 'Apr 13, 2021', 'Mar 23, 2021', 'Sep 5, 2017', 'Apr 6, 2021', 'Apr 14, 2020', 'Aug 25, 2020', 'Nov 10, 2020', 'Oct 13, 2020', 'Sep 15, 2020', 'Oct 6, 2020', 'Apr 13, 2021', 'Nov 17, 2020', 'Mar 9, 2021', 'Apr 6, 2021', 'May 18, 2021', 'Jan 12, 2021', 'Jun 8, 2021', 'Mar 17, 2020', 'Oct 6, 2020', 'Mar 9, 2021', 'Oct 20, 2020', 'Feb 16, 2021', 'Sep 29, 2020', 'May 11, 2021', 'Jun 8, 2021', 'Oct 1, 2019', 'May 25, 2021', 'Oct 27, 2020', 'Nov 17, 2020', 'Jan 19, 2021', 'May 18, 2021', 'May 18, 2021', 'Sep 29, 2020', 'Oct 20, 2020', 'Oct 13, 2020', 'Apr 13, 2021', 'May 25, 2021', 'Oct 1, 2019', 'Apr 27, 2021', 'Jun 1, 2021', 'Oct 27, 2020', 'May 4, 2021', 'May 25, 2021', 'Mar 9, 2021', 'May 18, 2021', 'May 25, 2021', 'Mar 16, 2021', 'Mar 10, 2020', 'Jun 9, 2020', 'Jun 15, 2021', 'Sep 22, 2020', 'May 25, 2021', 'Mar 2, 2021', 'May 4, 2021', 'Apr 20, 2021', 'May 26, 2020', 'Jun 1, 2021', 'Oct 20, 2020', 'Mar 9, 2021', 'Aug 25, 2020', 'Mar 30, 2021', 'Apr 6, 2021', 'Jun 22, 2021', 'Apr 27, 2021', 'Jan 19, 2021', 'Apr 6, 2021', 'Apr 6, 2021', 'Feb 25, 2020', 'Dec 8, 2020', 'Apr 20, 2021', 'Dec 1, 2020', 'Sep 24, 2019', 'Feb 2, 2021', 'Aug 31, 2003', 'May 21, 1985', 'Oct 22, 2000', 'Jan 26, 2021', 'Feb 23, 2021', 'Sep 3, 2019', 'Jan 24, 2010', 'Jan 17, 1999', 'Oct 29, 2000', 'Apr 2, 2000', 'Sep 29, 2020', 'Nov 27, 2018', 'Oct 27, 1991', 'Mar 31, 2002', 'Mar 24, 2002', 'Jul 28, 1996', 'Feb 22, 2004', 'Mar 19, 2019', 'Jan 12, 2021', 'Jun 10, 1991', 'Apr 20, 2021', 'May 21, 1982', 'Sep 24, 2019', 'Jul 22, 2001', 'Oct 1, 2000', 'Jan 12, 2021', 'Mar 23, 2003', 'Apr 23, 2019', 'Sep 1, 2020', 'Nov 10, 2020', 'Aug 2, 2017', 'Jan 8, 2019', 'Sep 1, 2002', 'Apr 7, 2020', 'Dec 22, 2003', 'Jul 23, 1995', 'Dec 9, 2001', 'Dec 23, 2001', 'Nov 5, 1995', 'Jul 2, 2019', 'Aug 15, 2017', 'Dec 6, 2009', 'Nov 14, 1999', 'Feb 6, 1997', 'Mar 26, 2006', 'Sep 6, 1998', 'Sep 21, 1984', 'Feb 21, 1990', 'Jul 28, 1996', 'Aug 24, 2008', 'Oct 13, 2020', 'Nov 21, 1999', 'May 9, 2017', 'Dec 1, 2020', 'Jul 29, 1991', 'Jul 29, 1991', 'Mar 21, 1986', 'Nov 3, 2020', 'Oct 1, 2019', 'Nov 13, 2018', 'Nov 5, 2019', 'Apr 21, 1968', 'Feb 19, 2019', 'Aug 11, 1996', 'Oct 21, 1987', 'May 25, 1997', 'Aug 27, 1995', 'Nov 30, 1997', 'Feb 4, 1990', 'May 23, 1993', 'Oct 15, 2000', 'Jul 26, 2004', 'Feb 15, 2004', 'Aug 27, 2000', 'Apr 30, 2000', 'Feb 21, 1987', 'Sep 1, 1991', 'Oct 9, 1994', 'Feb 14, 1993', 'Nov 19, 1995', 'Feb 5, 2019', 'Nov 4, 2007', 'Feb 9, 2021', 'Dec 8, 2020', 'Nov 3, 2020', 'Oct 20, 2020', 'Nov 21, 1971', 'Sep 3, 2000', 'Aug 29, 2004', 'Jun 6, 1993', 'Apr 9, 2000', 'Oct 21, 1989', 'Jun 2, 1996', 'Feb 2, 2021', 'Nov 3, 2020', 'Jul 14, 2020', 'Nov 24, 2020', 'Jul 13, 2021', 'Nov 3, 2020', 'Sep 10, 2019', 'Nov 17, 2020', 'Apr 21, 1972', 'Oct 30, 1990', 'Jun 18, 2001', 'Apr 12, 1999', 'Apr 6, 2021', 'Feb 21, 1987', 'Jul 16, 2019', 'Mar 28, 1999', 'Jun 1, 2021', 'Dec 1, 1996', 'Feb 21, 1991', 'May 4, 2008', 'Aug 25, 1996', 'Apr 9, 2019', 'Dec 29, 1996', 'Dec 3, 1995', 'Mar 24, 1996', 'Sep 8, 2020', 'Jan 5, 2021', 'May 22, 1994', 'Apr 7, 2002', 'Dec 5, 2017', 'May 1, 2018', 'Jul 21, 1986', 'Jul 9, 2000', 'Dec 23, 2001', 'Oct 13, 2002', 'Aug 28, 2005', 'Dec 11, 2005', 'Nov 5, 1995', 'Feb 6, 1997', 'Jan 16, 1994', 'Aug 29, 1999', 'Aug 21, 1989', 'Sep 8, 1996', 'Jan 10, 2000', 'Sep 27, 1999', 'May 21, 1990', 'Jan 15, 2002', 'Apr 1, 2001', 'Aug 11, 2002', 'Aug 2, 2016', 'Jun 21, 1980', 'Dec 19, 2004', 'Jun 21, 1988', 'Jul 29, 1991', 'Dec 9, 2001', 'Jun 1, 2021', 'Sep 18, 1997', 'Nov 2, 2008', 'Nov 14, 2004', 'Feb 4, 1990', 'Mar 14, 1999', 'Jan 12, 1997', 'Jan 8, 2019', 'Feb 2, 2021', 'Feb 21, 1991', 'Nov 16, 1997', 'Jul 26, 2009', 'Jul 21, 1978', 'Nov 21, 1993', 'Apr 6, 1997', 'Mar 23, 1992', 'Aug 18, 2020', 'Nov 13, 2018', 'Apr 2, 2019', 'Jan 30, 2000', 'Jan 5, 2021', 'Nov 8, 2016', 'Jul 25, 2005', 'Nov 21, 1978', 'Sep 25, 2000', 'Nov 12, 2000', 'Feb 5, 2019', 'May 21, 1988', 'Aug 26, 2001', 'May 28, 2019', 'Nov 17, 1996', 'Oct 21, 1989', 'Dec 1, 1996', 'Aug 20, 2000', 'Nov 3, 2020', 'Jun 25, 2019', 'Nov 13, 2018', 'Nov 16, 1997', 'Jan 15, 2002', 'May 18, 2021', 'Jan 15, 2002', 'Oct 13, 2020', 'Mar 10, 1994', 'Dec 21, 1983', 'Jan 11, 1998', 'Dec 8, 2020', 'Feb 21, 1967', 'Nov 12, 1991', 'Mar 1, 2015', 'Sep 22, 2020', 'Feb 14, 1990', 'Aug 20, 2006', 'May 14, 2019', 'Apr 23, 2019', 'Dec 31, 1995', 'Aug 14, 2005', 'Oct 13, 2020', 'Mar 14, 2005', 'Apr 17, 2005', 'Jun 15, 2021', 'Jul 21, 2020', 'Dec 11, 2005', 'May 24, 1994', 'Jun 12, 1997', 'Nov 24, 2020', 'Dec 19, 1994', 'Jul 25, 2011', 'Feb 5, 2019', 'Feb 4, 1990', 'Apr 6, 2021', 'Jul 21, 1998', 'Oct 23, 1990', 'May 2, 1999', 'Jan 28, 2007', 'Feb 14, 1993', 'Oct 15, 2019', 'Sep 5, 1999', 'Dec 15, 1996', 'Dec 13, 1998', 'Jan 21, 1991', 'Jul 14, 2020', 'Mar 5, 2019', 'Aug 25, 2015', 'Aug 15, 1993', 'Nov 17, 2002', 'Feb 13, 1995', 'Mar 7, 1993', 'Jul 21, 1999', 'Feb 16, 1992', 'Mar 13, 2018', 'Nov 21, 1983', 'Feb 2, 2021', 'Jan 24, 2010', 'Mar 28, 1993', 'Mar 6, 1997', 'Oct 3, 2006', 'Apr 13, 2021', 'Feb 25, 2007', 'Oct 27, 2020', 'Oct 27, 2020', 'Feb 9, 2021', 'Sep 29, 2020', 'Sep 18, 2018', 'Jun 15, 2021', 'Dec 5, 1999', 'Sep 8, 2015', 'Dec 1, 2020', 'Oct 12, 2003', 'Dec 4, 1994', 'Aug 23, 1998', 'Sep 12, 1993', 'Jul 21, 1998', 'Dec 31, 1995', 'Aug 23, 1990', 'Jul 21, 1988', 'Nov 30, 1997', 'Oct 5, 2003', 'May 9, 1993', 'Jul 21, 1980', 'Dec 10, 2000', 'Feb 26, 1995', 'May 1, 2018', 'Dec 1, 2020', 'Sep 22, 2015', 'May 10, 1998', 'Aug 19, 1990', 'Jul 21, 1999', 'Jun 5, 2018', 'Jun 27, 2017', 'Oct 26, 2008', 'Sep 10, 2006', 'May 4, 2021', 'May 5, 1992', 'Aug 14, 1994', 'Dec 15, 2020', 'Dec 22, 2015', 'Jan 29, 2006', 'Jul 7, 2020', 'Sep 18, 2005', 'Jan 25, 2015', 'Sep 15, 2020', 'Nov 4, 2001', 'Mar 1, 1998', 'Jul 26, 1999', 'Jul 21, 1989', 'Sep 4, 2018', 'Mar 14, 1993', 'Mar 28, 2017', 'Jul 21, 2002', 'Jul 25, 2005', 'Jan 17, 1999', 'Sep 21, 1989', 'Feb 13, 1990', 'Jul 27, 1997', 'Apr 21, 1991', 'Oct 30, 2018', 'Aug 18, 2020', 'Oct 21, 1986', 'Mar 26, 2006', 'Sep 15, 2020', 'Mar 17, 2020', 'Mar 30, 2003', 'Apr 8, 2007', 'Dec 15, 2020', 'Oct 27, 2020', 'Sep 1, 2020', 'Feb 16, 1992', 'Dec 6, 2016', 'Jan 25, 2004', 'Apr 16, 2019', 'Feb 18, 2001', 'Jun 5, 2018', 'Sep 8, 2020', 'Apr 21, 2020', 'Jan 12, 2021', 'Jan 12, 2021', 'Jan 12, 2021', 'Dec 1, 2002', 'Jul 21, 2002', 'Jun 18, 2001', 'Oct 31, 2017', 'Jun 15, 2021', 'Mar 16, 2021', 'Feb 11, 2020', 'Sep 1, 2015', 'Nov 21, 1993', 'Sep 24, 2019', 'Sep 28, 1992', 'Oct 22, 1995', 'Mar 19, 2000', 'Sep 7, 2003', 'Jan 7, 2020', 'Dec 27, 1998', 'Jul 28, 1996', 'Jan 26, 2021', 'Aug 15, 2004', 'Mar 3, 2002', 'Dec 19, 1999', 'Dec 20, 1998', 'Mar 23, 1992', 'Jul 27, 1997', 'Apr 21, 1981', 'Aug 11, 2020', 'Dec 4, 1994', 'Jan 23, 2001', 'Nov 10, 2020', 'Jul 21, 1982', 'Feb 5, 2019', 'Dec 8, 2020', 'Sep 2, 2001', 'Dec 5, 1999', 'May 1, 2018', 'Sep 6, 1990', 'Mar 9, 2021', 'Sep 17, 2000', 'Feb 6, 1997', 'Nov 5, 2006', 'Mar 23, 1992', 'Jan 21, 1991', 'Nov 20, 2018', 'Mar 21, 1989', 'Nov 18, 2001', 'Oct 21, 1990', 'Aug 15, 1990', 'Oct 29, 2000', 'Oct 24, 1999', 'Jun 29, 2021', 'Mar 27, 2005', 'Aug 30, 1992', 'Jan 26, 2003', 'Nov 21, 1988', 'Jan 28, 1996', 'Mar 3, 2020', 'Jul 7, 2020', 'Apr 9, 2019', 'Sep 17, 2019', 'Nov 21, 1967', 'Nov 24, 2020', 'Feb 11, 2001', 'Oct 22, 2000', 'May 21, 1988', 'Nov 3, 2020', 'Nov 6, 1994', 'Dec 19, 1993', 'Nov 16, 1997', 'May 2, 1999', 'May 4, 2021', 'Mar 2, 2003', 'Feb 5, 2019', 'Mar 3, 2002', 'Oct 4, 2004', 'May 25, 1997', 'May 11, 2021', 'Mar 21, 1983', 'Sep 1, 2015', 'Aug 18, 2002', 'Apr 4, 1999', 'May 14, 2019', 'Dec 28, 1997', 'Aug 23, 1990', 'Feb 16, 2016', 'May 7, 2000', 'Dec 2, 2001', 'Dec 14, 2003', 'Jul 21, 1982', 'Aug 16, 2009', 'Nov 19, 2019', 'Nov 6, 2018', 'Apr 15, 2007', 'Nov 30, 2003', 'Jul 7, 2020', 'Mar 24, 1996', 'Aug 16, 1998', 'Nov 12, 1991', 'Feb 14, 1993', 'Jul 15, 2001', 'Dec 8, 2020', 'Jul 16, 1990', 'Feb 14, 1990', 'Sep 17, 2019', 'Apr 21, 1984', 'May 9, 1993', 'Jul 27, 1997', 'Mar 16, 2021', 'Sep 1, 2020', 'Aug 11, 2020', 'May 2, 1999', 'Nov 26, 2000', 'May 18, 2021', 'Jan 21, 1981', 'Sep 1, 2020', 'Sep 1, 2020', 'Sep 15, 2020', 'Apr 30, 2019', 'Apr 13, 2021', 'May 5, 1992', 'Apr 4, 2010', 'Nov 21, 1999', 'Apr 24, 2000', 'Mar 28, 1993', 'Apr 2, 2019', 'Jan 30, 2005', 'Apr 27, 2003', 'May 14, 2019', 'Aug 31, 2003', 'Jul 28, 2020', 'Oct 21, 1987', 'Jan 2, 1994', 'Jan 17, 1999', 'Jun 15, 2021', 'Dec 1, 1996', 'Nov 21, 2010', 'Jan 17, 2000', 'Oct 27, 1991', 'Oct 21, 2001', 'Sep 17, 2019', 'Sep 17, 2000', 'Apr 12, 1998', 'May 31, 1998', 'Jun 2, 2020', 'Feb 16, 2021', 'Feb 20, 2018', 'Jul 21, 2008', 'Jul 21, 1998', 'Apr 2, 2000', 'Oct 8, 1995', 'Sep 6, 1992', 'May 21, 2019', 'Nov 21, 1987', 'Oct 27, 2020', 'Feb 25, 2020', 'Apr 7, 1996', 'Sep 1, 2020', 'Apr 20, 2021', 'Jun 15, 2021', 'Oct 31, 1999', 'Dec 21, 1973', 'Sep 23, 2002', 'Jul 16, 2000', 'Oct 27, 2020', 'Dec 5, 1999', 'Apr 6, 2003', 'Aug 6, 2000', 'Sep 15, 2020', 'May 21, 1990', 'May 21, 1980', 'Jan 21, 1990', 'Jul 23, 2006', 'Jul 23, 1995', 'Dec 10, 2000', 'Apr 30, 2000', 'May 21, 1988', 'Jun 21, 1979', 'May 14, 2019', 'May 15, 2018', 'Sep 15, 2020', 'Feb 6, 2000', 'Nov 10, 2002', 'Jun 25, 1991', 'May 13, 2007', 'Oct 13, 2020', 'Sep 15, 2020', 'Feb 21, 1991', 'Dec 21, 1984', 'Jun 21, 1969', 'Oct 16, 2018', 'Mar 28, 1993', 'Sep 11, 2005', 'Mar 16, 2021', 'Mar 23, 2021', 'May 21, 1985', 'Apr 12, 1992', 'Aug 18, 2002', 'Jul 23, 2000', 'Jun 16, 1994', 'Mar 10, 1992', 'May 7, 2019', 'Oct 24, 1999', 'Nov 3, 2002', 'Sep 29, 2020', 'Mar 9, 2021', 'Oct 27, 2020', 'Oct 9, 2018', 'Jan 3, 1999', 'Aug 21, 1988', 'May 7, 2019', 'Oct 10, 1993', 'Jan 31, 1999', 'Jun 15, 2021', 'Apr 1, 2001', 'Jun 6, 1993', 'Apr 23, 1995', 'Jan 16, 1994', 'Jul 30, 1995', 'Oct 6, 2020', 'May 28, 2000', 'Aug 1, 1999', 'Oct 20, 2020', 'Jan 10, 2010', 'Sep 21, 1989', 'May 26, 2015', 'Mar 21, 1988', 'Dec 28, 1997', 'May 12, 2002', 'Nov 24, 2015', 'Apr 21, 1968', 'Apr 16, 2019', 'Dec 19, 1999', 'Aug 17, 1992', 'Feb 21, 1989', 'Nov 17, 2020', 'Jun 22, 2021', 'Dec 28, 1997', 'Nov 10, 2020', 'Oct 22, 2000', 'Aug 12, 2001', 'May 28, 2000', 'Mar 7, 1996', 'Dec 21, 1975', 'Mar 5, 2019', 'Apr 21, 2002', 'Feb 21, 1991', 'May 17, 2009', 'Nov 11, 2001', 'Feb 2, 2021', 'Dec 21, 1984', 'Apr 17, 2005', 'Mar 26, 2019', 'Sep 29, 2002', 'Jun 21, 1978', 'Apr 25, 2004', 'Nov 25, 1991', 'Jul 22, 2007', 'Jul 22, 2007', 'Jan 28, 2001', 'Sep 15, 2020', 'May 18, 2021', 'Aug 17, 1992', 'Oct 5, 1997', 'Sep 1, 1991', 'Nov 24, 2002', 'Sep 9, 2001', 'Oct 12, 1999', 'Mar 3, 2002', 'Jun 12, 2018', 'Oct 30, 2005', 'Sep 29, 2020', 'Aug 13, 1995', 'Aug 19, 2001', 'Sep 17, 2019', 'Oct 21, 1969', 'Nov 23, 2008', 'Jul 10, 2018', 'Jun 15, 2021', 'Jun 6, 2017', 'Sep 8, 2020', 'Jun 10, 1991', 'Dec 20, 1992', 'Aug 12, 2001', 'Nov 17, 2002', 'Mar 24, 1996', 'Nov 21, 1979', 'Sep 25, 2000', 'Sep 22, 2020', 'Jun 28, 2016', 'Feb 7, 1999', 'Sep 23, 2002', 'Feb 11, 1996', 'Mar 4, 2001', 'Jun 20, 2017', 'Apr 17, 2018', 'Aug 26, 2012', 'Jan 12, 2021', 'Jul 10, 2018', 'Feb 20, 2011', 'Sep 17, 2000', 'Oct 13, 2020', 'Apr 9, 2019', 'May 12, 2020', 'Mar 19, 2019', 'Dec 20, 1998', 'Jan 3, 1999', 'Sep 8, 2020', 'Dec 1, 2020', 'Aug 5, 2001', 'May 26, 1991', 'Nov 24, 2020', 'Jan 8, 2019', 'May 22, 1994', 'Jul 23, 2006', 'Aug 4, 2020', 'Jul 21, 1984', 'Nov 5, 1990', 'Dec 5, 1999', 'Mar 4, 2007', 'May 5, 1992', 'Apr 23, 2019', 'May 28, 2019', 'Jun 22, 2021', 'Jun 22, 2021', 'Jul 29, 2002', 'Nov 18, 2001', 'Oct 21, 1989', 'May 5, 1992', 'Dec 21, 1982', 'Apr 21, 1981', 'Sep 26, 2017', 'May 28, 2019', 'Mar 13, 2000', 'Jan 4, 1998', 'Jun 25, 2019', 'Oct 21, 1987', 'Jul 25, 2005', 'Nov 11, 2007', 'Jan 26, 2021', 'Feb 15, 1998', 'Feb 12, 2019', 'Aug 21, 1988', 'Nov 3, 2020', 'May 4, 2021', 'Apr 21, 1991', 'Nov 13, 2018', 'Oct 19, 2021', 'Apr 18, 2017', 'Jan 23, 2008', 'Apr 1, 2013', 'Apr 8, 2007', 'Sep 19, 1996', 'Dec 1, 1996', 'Oct 13, 2020', 'Dec 4, 2018', 'Sep 1, 2020', 'Apr 13, 2021', 'Feb 5, 2019', 'Jan 11, 1996', 'May 21, 1986', 'Jan 21, 1991', 'Oct 23, 2018', 'Sep 21, 1990', 'Jan 27, 2002', 'Sep 18, 1997', 'Jul 26, 2004', 'Mar 2, 2021', 'Feb 25, 2001', 'Apr 20, 2021', 'Oct 30, 2018', 'Jan 21, 1987', 'Jun 12, 2018', 'Mar 22, 1998', 'Sep 25, 2018', 'Feb 5, 2019', 'Dec 21, 1997', 'Aug 28, 2018', 'Nov 25, 2012', 'Sep 15, 2020', 'Jun 25, 2019', 'Jun 1, 2021', 'Jun 22, 2021', 'Jan 12, 1997', 'Jul 25, 1994', 'Dec 7, 2003', 'Nov 24, 2015', 'Apr 6, 1997', 'Jan 12, 2021', 'Apr 30, 2006', 'Jul 28, 1996', 'Jan 18, 1993', 'Dec 3, 2000', 'Sep 1, 2020', 'Apr 21, 1989', 'Jan 26, 2003', 'Jun 8, 2021', 'Jan 21, 2020', 'Aug 25, 1996', 'May 30, 1999', 'Oct 5, 2003', 'Sep 12, 1993', 'Jul 26, 2004', 'Oct 16, 2018', 'Oct 28, 2007', 'Nov 21, 2017', 'Sep 15, 2020', 'Aug 24, 2014', 'Dec 31, 2000', 'Aug 18, 2002', 'Feb 23, 2021', 'Mar 16, 2021', 'Aug 8, 1999', 'Feb 21, 2010', 'Jun 15, 2021', 'Feb 27, 2000', 'Sep 29, 2020', 'May 26, 2002', 'Nov 21, 1988', 'Apr 9, 1991', 'Jul 28, 2020', 'Jul 7, 2015', 'Jul 21, 1989', 'Sep 2, 2007', 'Apr 25, 2004', 'Sep 5, 2017', 'May 21, 1988', 'Mar 29, 1998', 'Jan 31, 1994', 'Nov 10, 2020', 'Sep 21, 1988', 'Nov 24, 2020', 'Mar 5, 2000', 'Feb 12, 2019', 'Jan 11, 1996', 'Nov 12, 2019', 'Jul 26, 2009', 'Jun 23, 1992', 'Sep 1, 2020', 'Nov 23, 2003', 'Jun 12, 2018', 'Jan 22, 2007', 'Jan 21, 1990', 'Apr 22, 1997', 'Dec 4, 1994', 'Aug 21, 1989', 'Sep 15, 2020', 'Feb 21, 1990', 'Aug 18, 2020', 'Jul 22, 2003', 'Mar 28, 1999', 'Mar 26, 2000', 'Feb 19, 2019', 'Feb 16, 2003', 'Nov 12, 2000', 'Oct 21, 1978', 'Oct 8, 2019', 'Apr 12, 1992', 'Apr 1, 2007', 'Dec 18, 1995', 'Jul 21, 1999', 'Sep 11, 1994', 'Feb 5, 2019', 'Oct 24, 1990', 'Nov 7, 2017', 'Apr 18, 2004', 'May 24, 1994', 'May 4, 2021', 'Jan 25, 2004', 'Jul 3, 1994', 'Oct 26, 2008', 'Sep 22, 2020', 'Nov 21, 1999', 'Oct 27, 1991', 'Sep 6, 2016', 'May 11, 2021', 'Mar 28, 1993', 'May 16, 1990', 'Apr 6, 2021', 'Jun 21, 1975', 'Mar 5, 2000', 'Apr 6, 1997', 'Jul 14, 2020', 'Sep 8, 2020', 'Oct 6, 2002', 'May 21, 2019', 'Dec 11, 2018', 'Sep 4, 1990', 'Oct 21, 1989', 'Dec 19, 1993', 'Feb 6, 1997', 'Oct 11, 1998', 'Mar 24, 2002', 'May 18, 2021', 'Jun 10, 1999', 'Dec 31, 1995', 'Nov 17, 2020', 'Apr 13, 2021', 'Jan 31, 1994', 'Jan 31, 1993', 'May 5, 1992', 'Jan 28, 2007', 'Aug 18, 2020', 'Feb 7, 1990', 'Mar 24, 1996', 'Jan 8, 2019', 'Apr 13, 2021', 'Aug 24, 2008', 'Sep 22, 2020', 'Mar 30, 2003', 'Mar 28, 1999', 'Mar 30, 2021', 'Sep 27, 1993', 'Jul 7, 2020', 'Dec 1, 1996', 'Aug 4, 2020', 'Jan 23, 2001', 'Feb 1, 2004', 'Mar 8, 1999', 'Jun 4, 2000', 'Mar 6, 2005', 'Oct 14, 2001', 'Dec 11, 2018', 'Mar 26, 1995', 'Jan 31, 1993', 'Apr 6, 2021', 'Aug 3, 2008', 'Sep 25, 2018', 'Dec 8, 2020', 'Jul 7, 2020', 'Dec 11, 2018', 'May 18, 2021', 'Jul 21, 2008', 'Nov 16, 2003', 'Dec 21, 1989', 'Nov 3, 2020', 'Feb 12, 2019', 'May 7, 2006', 'Apr 6, 1997', 'May 18, 2021', 'Apr 17, 2011', 'Sep 1, 2002', 'Jan 5, 2021', 'Mar 31, 2002', 'Nov 30, 1997', 'Jun 19, 2018', 'May 21, 1981', 'Oct 6, 2020', 'Sep 19, 2004']\n"
     ]
    }
   ],
   "source": [
    "from scrapy import Selector\n",
    "import requests\n",
    "\n",
    "datelist = []\n",
    "\n",
    "for url in full_url_content:\n",
    "    try:\n",
    "        html = requests.get(url).content\n",
    "        sel = Selector(text = html)\n",
    "        date = sel.xpath('//dt[contains(@class, \"published\")]/following-sibling::dd[1]/text()').extract()[0]\n",
    "        datelist.append(str.strip(date))\n",
    "    except: \n",
    "        datelist.append(\"NA\")\n",
    "print(datelist)"
   ]
  },
  {
   "cell_type": "code",
   "execution_count": 619,
   "metadata": {},
   "outputs": [],
   "source": [
    "datelist_file = open(\"datelist.txt\", \"w\")\n",
    "for element in datelist:\n",
    "    datelist_file.write(element + \"\\n\")\n",
    "datelist_file.close()"
   ]
  },
  {
   "cell_type": "code",
   "execution_count": null,
   "metadata": {},
   "outputs": [],
   "source": []
  }
 ],
 "metadata": {
  "kernelspec": {
   "display_name": "Python 3",
   "language": "python",
   "name": "python3"
  },
  "language_info": {
   "codemirror_mode": {
    "name": "ipython",
    "version": 3
   },
   "file_extension": ".py",
   "mimetype": "text/x-python",
   "name": "python",
   "nbconvert_exporter": "python",
   "pygments_lexer": "ipython3",
   "version": "3.7.4"
  }
 },
 "nbformat": 4,
 "nbformat_minor": 4
}
